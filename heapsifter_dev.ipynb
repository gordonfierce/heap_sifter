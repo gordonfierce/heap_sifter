{
 "cells": [
  {
   "cell_type": "code",
   "execution_count": 3,
   "metadata": {
    "collapsed": false
   },
   "outputs": [],
   "source": [
    "%load heapsifter.py"
   ]
  },
  {
   "cell_type": "code",
   "execution_count": 4,
   "metadata": {
    "collapsed": false
   },
   "outputs": [
    {
     "ename": "SyntaxError",
     "evalue": "invalid syntax (<ipython-input-4-3ffc42fcf84f>, line 17)",
     "output_type": "error",
     "traceback": [
      "\u001b[0;36m  File \u001b[0;32m\"<ipython-input-4-3ffc42fcf84f>\"\u001b[0;36m, line \u001b[0;32m17\u001b[0m\n\u001b[0;31m    print(item.text, file=my_file)\u001b[0m\n\u001b[0m                         ^\u001b[0m\n\u001b[0;31mSyntaxError\u001b[0m\u001b[0;31m:\u001b[0m invalid syntax\n"
     ]
    }
   ],
   "source": [
    "import random, heapq, functools\n",
    "\n",
    "import click\n",
    "\n",
    "def insert_todo(todos, text):\n",
    "    heapq.heappush(todos, TODO(text))\n",
    "\n",
    "def review(todos):\n",
    "    item = random.choice(todos)\n",
    "    click.echo(item.text)\n",
    "    review = input()\n",
    "    item.text = review\n",
    "\n",
    "def write_todos(todo_list, file_name):\n",
    "    with open(file_name, mode='w') as my_file:\n",
    "        for item in todo_list:\n",
    "            print(item.text, file=my_file)\n",
    "\n",
    "def read_todos(todo_file):\n",
    "    try:\n",
    "        with open(todo_file) as my_file:\n",
    "            todos = [TODO(todo.strip()) for todo in  my_file if todo != '\\n']\n",
    "        return todos\n",
    "    except FileNotFoundError:\n",
    "        return []\n",
    "\n",
    "@functools.lru_cache(maxsize=None)\n",
    "def prioritize_or_equal(item_a, item_b):\n",
    "    click.echo(\"a: {}\".format(item_a))\n",
    "    click.echo(\"b: {}\".format(item_b))\n",
    "    choice = click.prompt(\"More important? a/b/(e)qual\")\n",
    "    if choice == 'b':\n",
    "        return 'less'\n",
    "    elif choice == 'a':\n",
    "        return 'greater'\n",
    "    else:\n",
    "        return 'equal'\n",
    "\n",
    "@functools.total_ordering\n",
    "class TODO:\n",
    "    def __init__(self, text):\n",
    "        self.text = text\n",
    "\n",
    "    def __repr__(self):\n",
    "        return \"TODO({})\".format(self.text)\n",
    "\n",
    "    def __str__(self):\n",
    "        return self.text\n",
    "\n",
    "    def __eq__(self, other):\n",
    "        if self.text < other.text:\n",
    "            return prioritize_or_equal(self.text, other.text) == 'equal'\n",
    "        else:\n",
    "            return prioritize_or_equal(other.text, self.text) == 'equal'\n",
    "\n",
    "    def __lt__(self, other):\n",
    "        if self.text < other.text:\n",
    "            return prioritize_or_equal(self.text, other.text) == 'greater'\n",
    "        else:\n",
    "            return prioritize_or_equal(other.text, self.text) == 'less'\n",
    "\n",
    "@click.group()\n",
    "def cli():\n",
    "    pass\n",
    "\n",
    "@cli.command()\n",
    "@click.option('--insertion', prompt='Your todo',\n",
    "              help='The string you want to add.')\n",
    "@click.option('--todo_file', default='todo.txt',\n",
    "              help='The text file destination.')\n",
    "def add(todo_file, insertion):\n",
    "    todos = read_todos(todo_file)\n",
    "    insert_todo(todos, insertion)\n",
    "    write_todos(todos, todo_file)\n",
    "\n",
    "@cli.command()\n",
    "@click.option('--todo_file', default='todo.txt',\n",
    "              help='The file to heap.')\n",
    "def heap_it(todo_file):\n",
    "    todos = read_todos(todo_file)\n",
    "    heapq.heapify(todos)\n",
    "    write_todos(todos, todo_file)\n",
    "\n",
    "@cli.command()\n",
    "@click.option('--todo_file', default='todo.txt',\n",
    "              help='The todo file to review.')\n",
    "def pop(todo_file):\n",
    "    todos = read_todos(todo_file)\n",
    "    click.echo(todos[0])\n",
    "    choice = click.prompt(\"Mark [d]one, [r]epush, or [C]urrent?\")\n",
    "    if choice == 'd':\n",
    "        heapq.heappop(todos)\n",
    "    elif choice == 'r':\n",
    "        heapq.heapreplace(todos, todos[0])\n",
    "        # item = heapq.heappop(todos)\n",
    "        # heapq.heappush(todos, item)\n",
    "    write_todos(todos, todo_file)\n",
    "\n",
    "@cli.command()\n",
    "def grab(source_file, dest_file):\n",
    "    pass\n",
    "\n"
   ]
  }
 ],
 "metadata": {
  "kernelspec": {
   "display_name": "Python 3",
   "language": "python",
   "name": "python3"
  },
  "language_info": {
   "codemirror_mode": {
    "name": "ipython",
    "version": 3
   },
   "file_extension": ".py",
   "mimetype": "text/x-python",
   "name": "python",
   "nbconvert_exporter": "python",
   "pygments_lexer": "ipython3",
   "version": "3.5.0"
  }
 },
 "nbformat": 4,
 "nbformat_minor": 0
}
