{
 "cells": [
  {
   "cell_type": "markdown",
   "metadata": {},
   "source": [
    "Credit to: \n",
    "* Brian Coffey's talk here: http://multithreaded.stitchfix.com/blog/2015/12/15/d3-jupyter/ with associated code here: https://github.com/stitchfix/d3-jupyter-tutorial in which it is revealed how to jam D3 into Jupyter notebooks.\n",
    "\n",
    "* Mike Bostock's Force Directed Tree code, here: https://bl.ocks.org/mbostock/1138500\n",
    "\n",
    "* Daniel Borowski's Fibonacci Heap implementation, here: https://github.com/danielborowski/fibonacci-heap-python which helped clarify my own implementation"
   ]
  },
  {
   "cell_type": "code",
   "execution_count": 1,
   "metadata": {
    "collapsed": true
   },
   "outputs": [],
   "source": [
    "from IPython.core.display import display, HTML\n",
    "from string import Template\n",
    "import json"
   ]
  },
  {
   "cell_type": "code",
   "execution_count": 2,
   "metadata": {
    "collapsed": false
   },
   "outputs": [
    {
     "data": {
      "text/html": [
       "<script src=\"lib/d3/d3.min.js\"></script>"
      ],
      "text/plain": [
       "<IPython.core.display.HTML object>"
      ]
     },
     "execution_count": 2,
     "metadata": {},
     "output_type": "execute_result"
    }
   ],
   "source": [
    "HTML('<script src=\"lib/d3/d3.min.js\"></script>')"
   ]
  },
  {
   "cell_type": "code",
   "execution_count": 3,
   "metadata": {
    "collapsed": true
   },
   "outputs": [],
   "source": [
    "html_template = Template('''\n",
    "<style> $css_text </style>\n",
    "<div id=\"graph-div\"></div>\n",
    "<script> $js_text </script>\n",
    "''')"
   ]
  },
  {
   "cell_type": "code",
   "execution_count": 4,
   "metadata": {
    "collapsed": true
   },
   "outputs": [],
   "source": [
    "css_text = '''\n",
    "circle {\n",
    "  stroke-width: 1.5px;\n",
    "}\n",
    "\n",
    "line {\n",
    "  stroke: #999;\n",
    "  stroke-width: 1.5px;\n",
    "}\n",
    "'''"
   ]
  },
  {
   "cell_type": "code",
   "execution_count": 5,
   "metadata": {
    "collapsed": true
   },
   "outputs": [],
   "source": [
    "js_text_template = Template('''\n",
    "var width = 960,\n",
    "    height = 500,\n",
    "    radius = 6;\n",
    "\n",
    "var fill = d3.scale.category20();\n",
    "\n",
    "var force = d3.layout.force()\n",
    "    .charge(-120)\n",
    "    .linkDistance(30)\n",
    "    .size([width, height]);\n",
    "\n",
    "var svg = d3.select(\"#graph-div\").append(\"svg\")\n",
    "    .attr(\"width\", width)\n",
    "    .attr(\"height\", height);\n",
    "\n",
    "var json = $data;\n",
    "\n",
    "  var link = svg.selectAll(\"line\")\n",
    "      .data(json.links)\n",
    "    .enter().append(\"line\");\n",
    "\n",
    "  var node = svg.selectAll(\"circle\")\n",
    "      .data(json.nodes)\n",
    "    .enter().append(\"circle\")\n",
    "      .attr(\"r\", radius - .75)\n",
    "      .style(\"fill\", function(d) { return fill(d.group); })\n",
    "      .style(\"stroke\", function(d) { return d3.rgb(fill(d.group)).darker(); })\n",
    "      .call(force.drag);\n",
    "  \n",
    "  node.append(\"title\")\n",
    "      .text(function(d) { return d.name; });\n",
    "\n",
    "  force\n",
    "      .nodes(json.nodes)\n",
    "      .links(json.links)\n",
    "      .on(\"tick\", tick)\n",
    "      .start();\n",
    "\n",
    "  function tick(e) {\n",
    "    var k = 6 * e.alpha;\n",
    "\n",
    "    // Push sources up and targets down to form a weak tree.\n",
    "    link\n",
    "        .each(function(d) { d.source.y -= k, d.target.y += k; })\n",
    "        .attr(\"x1\", function(d) { return d.source.x; })\n",
    "        .attr(\"y1\", function(d) { return d.source.y; })\n",
    "        .attr(\"x2\", function(d) { return d.target.x; })\n",
    "        .attr(\"y2\", function(d) { return d.target.y; });\n",
    "\n",
    "    node\n",
    "        .attr(\"cx\", function(d) { return d.x; })\n",
    "        .attr(\"cy\", function(d) { return d.y; });\n",
    "\n",
    "  }\n",
    "''')"
   ]
  },
  {
   "cell_type": "code",
   "execution_count": 6,
   "metadata": {
    "collapsed": true
   },
   "outputs": [],
   "source": [
    "from fibheapsifter import FibHeap"
   ]
  },
  {
   "cell_type": "code",
   "execution_count": 7,
   "metadata": {
    "collapsed": true
   },
   "outputs": [],
   "source": [
    "num_heap = FibHeap()\n",
    "for num in range(0, 33):\n",
    "    num_heap.insert(num)"
   ]
  },
  {
   "cell_type": "code",
   "execution_count": 53,
   "metadata": {
    "collapsed": true
   },
   "outputs": [],
   "source": [
    "def convert_heap_to_json_data(fibheap):\n",
    "    def get_all_children(node):\n",
    "        nodes = []\n",
    "        if node.children:\n",
    "            for child_node in node.children:\n",
    "                child_nodes = get_all_children(child_node)\n",
    "                nodes.extend(child_nodes)\n",
    "            nodes.extend(node.children)\n",
    "        return nodes\n",
    "    \n",
    "    def get_all_nodes(heap):\n",
    "        nodes = []\n",
    "        for node in heap.root_list:\n",
    "            children = get_all_children(node)\n",
    "            nodes.extend(children)\n",
    "            nodes.extend([node])\n",
    "        return nodes\n",
    "    all_nodes = get_all_nodes(fibheap)\n",
    "    \n",
    "    for index, node in enumerate(all_nodes):\n",
    "        node.index = index\n",
    "    data = {\"nodes\": [{\"name\": str(node.item)} for node in all_nodes],\n",
    "            \"links\": [{\"source\": node.parent.index, \"target\": node.index} for node in all_nodes if node.parent]}\n",
    "    return json.dumps(data)"
   ]
  },
  {
   "cell_type": "code",
   "execution_count": 9,
   "metadata": {
    "collapsed": false
   },
   "outputs": [],
   "source": [
    "data = convert_heap_to_json_data(num_heap)"
   ]
  },
  {
   "cell_type": "code",
   "execution_count": 10,
   "metadata": {
    "collapsed": false
   },
   "outputs": [],
   "source": [
    "js_text = js_text_template.substitute({'data': data})"
   ]
  },
  {
   "cell_type": "code",
   "execution_count": 59,
   "metadata": {
    "collapsed": false
   },
   "outputs": [
    {
     "data": {
      "text/html": [
       "\n",
       "<style> \n",
       "circle {\n",
       "  stroke-width: 1.5px;\n",
       "}\n",
       "\n",
       "line {\n",
       "  stroke: #999;\n",
       "  stroke-width: 1.5px;\n",
       "}\n",
       " </style>\n",
       "<div id=\"graph-div\"></div>\n",
       "<script> \n",
       "var width = 960,\n",
       "    height = 500,\n",
       "    radius = 6;\n",
       "\n",
       "var fill = d3.scale.category20();\n",
       "\n",
       "var force = d3.layout.force()\n",
       "    .charge(-120)\n",
       "    .linkDistance(30)\n",
       "    .size([width, height]);\n",
       "\n",
       "var svg = d3.select(\"#graph-div\").append(\"svg\")\n",
       "    .attr(\"width\", width)\n",
       "    .attr(\"height\", height);\n",
       "\n",
       "var json = {\"nodes\": [{\"name\": 0}, {\"name\": 1}, {\"name\": 2}, {\"name\": 3}, {\"name\": 4}, {\"name\": 5}, {\"name\": 6}, {\"name\": 7}, {\"name\": 8}, {\"name\": 9}, {\"name\": 10}, {\"name\": 11}, {\"name\": 12}, {\"name\": 13}, {\"name\": 14}, {\"name\": 15}, {\"name\": 16}, {\"name\": 17}, {\"name\": 18}, {\"name\": 19}, {\"name\": 20}, {\"name\": 21}, {\"name\": 22}, {\"name\": 23}, {\"name\": 24}, {\"name\": 25}, {\"name\": 26}, {\"name\": 27}, {\"name\": 28}, {\"name\": 29}, {\"name\": 30}, {\"name\": 31}, {\"name\": 32}], \"links\": []};\n",
       "\n",
       "  var link = svg.selectAll(\"line\")\n",
       "      .data(json.links)\n",
       "    .enter().append(\"line\");\n",
       "\n",
       "  var node = svg.selectAll(\"circle\")\n",
       "      .data(json.nodes)\n",
       "    .enter().append(\"circle\")\n",
       "      .attr(\"r\", radius - .75)\n",
       "      .style(\"fill\", function(d) { return fill(d.group); })\n",
       "      .style(\"stroke\", function(d) { return d3.rgb(fill(d.group)).darker(); })\n",
       "      .call(force.drag);\n",
       "  \n",
       "  node.append(\"title\")\n",
       "      .text(function(d) { return d.name; });\n",
       "\n",
       "  force\n",
       "      .nodes(json.nodes)\n",
       "      .links(json.links)\n",
       "      .on(\"tick\", tick)\n",
       "      .start();\n",
       "\n",
       "  function tick(e) {\n",
       "    var k = 6 * e.alpha;\n",
       "\n",
       "    // Push sources up and targets down to form a weak tree.\n",
       "    link\n",
       "        .each(function(d) { d.source.y -= k, d.target.y += k; })\n",
       "        .attr(\"x1\", function(d) { return d.source.x; })\n",
       "        .attr(\"y1\", function(d) { return d.source.y; })\n",
       "        .attr(\"x2\", function(d) { return d.target.x; })\n",
       "        .attr(\"y2\", function(d) { return d.target.y; });\n",
       "\n",
       "    node\n",
       "        .attr(\"cx\", function(d) { return d.x; })\n",
       "        .attr(\"cy\", function(d) { return d.y; });\n",
       "\n",
       "  }\n",
       " </script>\n"
      ],
      "text/plain": [
       "<IPython.core.display.HTML object>"
      ]
     },
     "execution_count": 59,
     "metadata": {},
     "output_type": "execute_result"
    }
   ],
   "source": [
    "HTML(html_template.substitute({'css_text': css_text, 'js_text': js_text}))"
   ]
  },
  {
   "cell_type": "code",
   "execution_count": 12,
   "metadata": {
    "collapsed": false
   },
   "outputs": [
    {
     "data": {
      "text/plain": [
       "0"
      ]
     },
     "execution_count": 12,
     "metadata": {},
     "output_type": "execute_result"
    }
   ],
   "source": [
    "num_heap.extract_minimum()"
   ]
  },
  {
   "cell_type": "code",
   "execution_count": 49,
   "metadata": {
    "collapsed": true
   },
   "outputs": [],
   "source": [
    "def crank_heap(heap):\n",
    "    data = convert_heap_to_json_data(heap)\n",
    "    js_text = js_text_template.substitute({'data': data})\n",
    "    return HTML(html_template.substitute({'css_text': css_text, 'js_text': js_text}))"
   ]
  },
  {
   "cell_type": "code",
   "execution_count": 14,
   "metadata": {
    "collapsed": false
   },
   "outputs": [
    {
     "data": {
      "text/html": [
       "\n",
       "<style> \n",
       "circle {\n",
       "  stroke-width: 1.5px;\n",
       "}\n",
       "\n",
       "line {\n",
       "  stroke: #999;\n",
       "  stroke-width: 1.5px;\n",
       "}\n",
       " </style>\n",
       "<div id=\"graph-div\"></div>\n",
       "<script> \n",
       "var width = 960,\n",
       "    height = 500,\n",
       "    radius = 6;\n",
       "\n",
       "var fill = d3.scale.category20();\n",
       "\n",
       "var force = d3.layout.force()\n",
       "    .charge(-120)\n",
       "    .linkDistance(30)\n",
       "    .size([width, height]);\n",
       "\n",
       "var svg = d3.select(\"#graph-div\").append(\"svg\")\n",
       "    .attr(\"width\", width)\n",
       "    .attr(\"height\", height);\n",
       "\n",
       "var json = {\"nodes\": [{\"name\": 2}, {\"name\": 4}, {\"name\": 3}, {\"name\": 8}, {\"name\": 6}, {\"name\": 7}, {\"name\": 5}, {\"name\": 12}, {\"name\": 16}, {\"name\": 14}, {\"name\": 15}, {\"name\": 10}, {\"name\": 11}, {\"name\": 13}, {\"name\": 9}, {\"name\": 20}, {\"name\": 24}, {\"name\": 22}, {\"name\": 23}, {\"name\": 28}, {\"name\": 32}, {\"name\": 30}, {\"name\": 31}, {\"name\": 26}, {\"name\": 27}, {\"name\": 29}, {\"name\": 18}, {\"name\": 19}, {\"name\": 21}, {\"name\": 25}, {\"name\": 17}], \"links\": [{\"source\": 2, \"target\": 1}, {\"source\": 5, \"target\": 3}, {\"source\": 6, \"target\": 4}, {\"source\": 6, \"target\": 5}, {\"source\": 12, \"target\": 7}, {\"source\": 10, \"target\": 8}, {\"source\": 13, \"target\": 9}, {\"source\": 13, \"target\": 10}, {\"source\": 14, \"target\": 11}, {\"source\": 14, \"target\": 12}, {\"source\": 14, \"target\": 13}, {\"source\": 27, \"target\": 15}, {\"source\": 18, \"target\": 16}, {\"source\": 28, \"target\": 17}, {\"source\": 28, \"target\": 18}, {\"source\": 24, \"target\": 19}, {\"source\": 22, \"target\": 20}, {\"source\": 25, \"target\": 21}, {\"source\": 25, \"target\": 22}, {\"source\": 29, \"target\": 23}, {\"source\": 29, \"target\": 24}, {\"source\": 29, \"target\": 25}, {\"source\": 30, \"target\": 26}, {\"source\": 30, \"target\": 27}, {\"source\": 30, \"target\": 28}, {\"source\": 30, \"target\": 29}]};\n",
       "\n",
       "  var link = svg.selectAll(\"line\")\n",
       "      .data(json.links)\n",
       "    .enter().append(\"line\");\n",
       "\n",
       "  var node = svg.selectAll(\"circle\")\n",
       "      .data(json.nodes)\n",
       "    .enter().append(\"circle\")\n",
       "      .attr(\"r\", radius - .75)\n",
       "      .style(\"fill\", function(d) { return fill(d.group); })\n",
       "      .style(\"stroke\", function(d) { return d3.rgb(fill(d.group)).darker(); })\n",
       "      .call(force.drag);\n",
       "  \n",
       "  node.append(\"title\")\n",
       "      .text(function(d) { return d.name; });\n",
       "\n",
       "  force\n",
       "      .nodes(json.nodes)\n",
       "      .links(json.links)\n",
       "      .on(\"tick\", tick)\n",
       "      .start();\n",
       "\n",
       "  function tick(e) {\n",
       "    var k = 6 * e.alpha;\n",
       "\n",
       "    // Push sources up and targets down to form a weak tree.\n",
       "    link\n",
       "        .each(function(d) { d.source.y -= k, d.target.y += k; })\n",
       "        .attr(\"x1\", function(d) { return d.source.x; })\n",
       "        .attr(\"y1\", function(d) { return d.source.y; })\n",
       "        .attr(\"x2\", function(d) { return d.target.x; })\n",
       "        .attr(\"y2\", function(d) { return d.target.y; });\n",
       "\n",
       "    node\n",
       "        .attr(\"cx\", function(d) { return d.x; })\n",
       "        .attr(\"cy\", function(d) { return d.y; });\n",
       "\n",
       "  }\n",
       " </script>\n"
      ],
      "text/plain": [
       "<IPython.core.display.HTML object>"
      ]
     },
     "execution_count": 14,
     "metadata": {},
     "output_type": "execute_result"
    }
   ],
   "source": [
    "crank_heap()"
   ]
  },
  {
   "cell_type": "code",
   "execution_count": 50,
   "metadata": {
    "collapsed": true
   },
   "outputs": [],
   "source": [
    "import functools\n",
    "\n",
    "#@functools.lru_cache(maxsize=None)\n",
    "def prioritize_or_equal(item_a, item_b):\n",
    "    print(\"a: {}\".format(item_a))\n",
    "    print(\"b: {}\".format(item_b))\n",
    "    choice = input(\"More important? a/b/(e)qual \")\n",
    "    if choice == 'b':\n",
    "        return 'greater'\n",
    "    elif choice == 'a':\n",
    "        return 'less'\n",
    "    else:\n",
    "        return 'equal'\n",
    "\n",
    "@functools.total_ordering\n",
    "class TODO:\n",
    "    def __init__(self, text):\n",
    "        self.text = text\n",
    "\n",
    "    def __repr__(self):\n",
    "        return \"TODO({})\".format(self.text)\n",
    "\n",
    "    def __str__(self):\n",
    "        return self.text\n",
    "\n",
    "    def __eq__(self, other):\n",
    "        if self.text < other.text:\n",
    "            return prioritize_or_equal(self.text, other.text) == 'equal'\n",
    "        else:\n",
    "            return prioritize_or_equal(other.text, self.text) == 'equal'\n",
    "\n",
    "    def __lt__(self, other):\n",
    "        if self.text < other.text:\n",
    "            return prioritize_or_equal(self.text, other.text) == 'greater'\n",
    "        else:\n",
    "            return prioritize_or_equal(other.text, self.text) == 'less'\n",
    "\n",
    "\n",
    "class HeapsifterHeap(object):\n",
    "    def __init__(self):\n",
    "        self.heap = FibHeap()\n",
    "        \n",
    "    def insert_todo(self, text):\n",
    "        todo = TODO(text)\n",
    "        self.heap.insert(todo)\n",
    "        return crank_heap(self.heap)\n",
    "        \n",
    "    \n",
    "    def show_top(self):\n",
    "        print(self.heap.minimum)\n",
    "    \n",
    "    def complete_top(self):\n",
    "        self.heap.extract_minimum()\n",
    "        print(\"New top priority: {}\".format(self.heap.minimum))\n",
    "        return crank_heap(self.heap)"
   ]
  },
  {
   "cell_type": "code",
   "execution_count": 51,
   "metadata": {
    "collapsed": true
   },
   "outputs": [],
   "source": [
    "my_heap = HeapsifterHeap()"
   ]
  },
  {
   "cell_type": "code",
   "execution_count": 54,
   "metadata": {
    "collapsed": false
   },
   "outputs": [
    {
     "name": "stdout",
     "output_type": "stream",
     "text": [
      "a: File taxes.\n",
      "b: File taxes.\n",
      "More important? a/b/(e)qual a\n"
     ]
    },
    {
     "data": {
      "text/html": [
       "\n",
       "<style> \n",
       "circle {\n",
       "  stroke-width: 1.5px;\n",
       "}\n",
       "\n",
       "line {\n",
       "  stroke: #999;\n",
       "  stroke-width: 1.5px;\n",
       "}\n",
       " </style>\n",
       "<div id=\"graph-div\"></div>\n",
       "<script> \n",
       "var width = 960,\n",
       "    height = 500,\n",
       "    radius = 6;\n",
       "\n",
       "var fill = d3.scale.category20();\n",
       "\n",
       "var force = d3.layout.force()\n",
       "    .charge(-120)\n",
       "    .linkDistance(30)\n",
       "    .size([width, height]);\n",
       "\n",
       "var svg = d3.select(\"#graph-div\").append(\"svg\")\n",
       "    .attr(\"width\", width)\n",
       "    .attr(\"height\", height);\n",
       "\n",
       "var json = {\"nodes\": [{\"name\": \"File taxes.\"}, {\"name\": \"File taxes.\"}], \"links\": []};\n",
       "\n",
       "  var link = svg.selectAll(\"line\")\n",
       "      .data(json.links)\n",
       "    .enter().append(\"line\");\n",
       "\n",
       "  var node = svg.selectAll(\"circle\")\n",
       "      .data(json.nodes)\n",
       "    .enter().append(\"circle\")\n",
       "      .attr(\"r\", radius - .75)\n",
       "      .style(\"fill\", function(d) { return fill(d.group); })\n",
       "      .style(\"stroke\", function(d) { return d3.rgb(fill(d.group)).darker(); })\n",
       "      .call(force.drag);\n",
       "  \n",
       "  node.append(\"title\")\n",
       "      .text(function(d) { return d.name; });\n",
       "\n",
       "  force\n",
       "      .nodes(json.nodes)\n",
       "      .links(json.links)\n",
       "      .on(\"tick\", tick)\n",
       "      .start();\n",
       "\n",
       "  function tick(e) {\n",
       "    var k = 6 * e.alpha;\n",
       "\n",
       "    // Push sources up and targets down to form a weak tree.\n",
       "    link\n",
       "        .each(function(d) { d.source.y -= k, d.target.y += k; })\n",
       "        .attr(\"x1\", function(d) { return d.source.x; })\n",
       "        .attr(\"y1\", function(d) { return d.source.y; })\n",
       "        .attr(\"x2\", function(d) { return d.target.x; })\n",
       "        .attr(\"y2\", function(d) { return d.target.y; });\n",
       "\n",
       "    node\n",
       "        .attr(\"cx\", function(d) { return d.x; })\n",
       "        .attr(\"cy\", function(d) { return d.y; });\n",
       "\n",
       "  }\n",
       " </script>\n"
      ],
      "text/plain": [
       "<IPython.core.display.HTML object>"
      ]
     },
     "execution_count": 54,
     "metadata": {},
     "output_type": "execute_result"
    }
   ],
   "source": [
    "my_heap.insert_todo(\"File taxes.\")"
   ]
  },
  {
   "cell_type": "code",
   "execution_count": 55,
   "metadata": {
    "collapsed": false
   },
   "outputs": [
    {
     "name": "stdout",
     "output_type": "stream",
     "text": [
      "a: File taxes.\n",
      "b: Mow lawn.\n",
      "More important? a/b/(e)qual a\n"
     ]
    },
    {
     "data": {
      "text/html": [
       "\n",
       "<style> \n",
       "circle {\n",
       "  stroke-width: 1.5px;\n",
       "}\n",
       "\n",
       "line {\n",
       "  stroke: #999;\n",
       "  stroke-width: 1.5px;\n",
       "}\n",
       " </style>\n",
       "<div id=\"graph-div\"></div>\n",
       "<script> \n",
       "var width = 960,\n",
       "    height = 500,\n",
       "    radius = 6;\n",
       "\n",
       "var fill = d3.scale.category20();\n",
       "\n",
       "var force = d3.layout.force()\n",
       "    .charge(-120)\n",
       "    .linkDistance(30)\n",
       "    .size([width, height]);\n",
       "\n",
       "var svg = d3.select(\"#graph-div\").append(\"svg\")\n",
       "    .attr(\"width\", width)\n",
       "    .attr(\"height\", height);\n",
       "\n",
       "var json = {\"nodes\": [{\"name\": \"File taxes.\"}, {\"name\": \"File taxes.\"}, {\"name\": \"Mow lawn.\"}], \"links\": []};\n",
       "\n",
       "  var link = svg.selectAll(\"line\")\n",
       "      .data(json.links)\n",
       "    .enter().append(\"line\");\n",
       "\n",
       "  var node = svg.selectAll(\"circle\")\n",
       "      .data(json.nodes)\n",
       "    .enter().append(\"circle\")\n",
       "      .attr(\"r\", radius - .75)\n",
       "      .style(\"fill\", function(d) { return fill(d.group); })\n",
       "      .style(\"stroke\", function(d) { return d3.rgb(fill(d.group)).darker(); })\n",
       "      .call(force.drag);\n",
       "  \n",
       "  node.append(\"title\")\n",
       "      .text(function(d) { return d.name; });\n",
       "\n",
       "  force\n",
       "      .nodes(json.nodes)\n",
       "      .links(json.links)\n",
       "      .on(\"tick\", tick)\n",
       "      .start();\n",
       "\n",
       "  function tick(e) {\n",
       "    var k = 6 * e.alpha;\n",
       "\n",
       "    // Push sources up and targets down to form a weak tree.\n",
       "    link\n",
       "        .each(function(d) { d.source.y -= k, d.target.y += k; })\n",
       "        .attr(\"x1\", function(d) { return d.source.x; })\n",
       "        .attr(\"y1\", function(d) { return d.source.y; })\n",
       "        .attr(\"x2\", function(d) { return d.target.x; })\n",
       "        .attr(\"y2\", function(d) { return d.target.y; });\n",
       "\n",
       "    node\n",
       "        .attr(\"cx\", function(d) { return d.x; })\n",
       "        .attr(\"cy\", function(d) { return d.y; });\n",
       "\n",
       "  }\n",
       " </script>\n"
      ],
      "text/plain": [
       "<IPython.core.display.HTML object>"
      ]
     },
     "execution_count": 55,
     "metadata": {},
     "output_type": "execute_result"
    }
   ],
   "source": [
    "my_heap.insert_todo(\"Mow lawn.\")"
   ]
  },
  {
   "cell_type": "code",
   "execution_count": 56,
   "metadata": {
    "collapsed": false
   },
   "outputs": [
    {
     "name": "stdout",
     "output_type": "stream",
     "text": [
      "TODO(File taxes.)\n"
     ]
    }
   ],
   "source": [
    "my_heap.show_top()"
   ]
  },
  {
   "cell_type": "code",
   "execution_count": 57,
   "metadata": {
    "collapsed": false
   },
   "outputs": [
    {
     "name": "stdout",
     "output_type": "stream",
     "text": [
      "a: Edit footage.\n",
      "b: File taxes.\n",
      "More important? a/b/(e)qual b\n"
     ]
    },
    {
     "data": {
      "text/html": [
       "\n",
       "<style> \n",
       "circle {\n",
       "  stroke-width: 1.5px;\n",
       "}\n",
       "\n",
       "line {\n",
       "  stroke: #999;\n",
       "  stroke-width: 1.5px;\n",
       "}\n",
       " </style>\n",
       "<div id=\"graph-div\"></div>\n",
       "<script> \n",
       "var width = 960,\n",
       "    height = 500,\n",
       "    radius = 6;\n",
       "\n",
       "var fill = d3.scale.category20();\n",
       "\n",
       "var force = d3.layout.force()\n",
       "    .charge(-120)\n",
       "    .linkDistance(30)\n",
       "    .size([width, height]);\n",
       "\n",
       "var svg = d3.select(\"#graph-div\").append(\"svg\")\n",
       "    .attr(\"width\", width)\n",
       "    .attr(\"height\", height);\n",
       "\n",
       "var json = {\"nodes\": [{\"name\": \"File taxes.\"}, {\"name\": \"File taxes.\"}, {\"name\": \"Mow lawn.\"}, {\"name\": \"Edit footage.\"}], \"links\": []};\n",
       "\n",
       "  var link = svg.selectAll(\"line\")\n",
       "      .data(json.links)\n",
       "    .enter().append(\"line\");\n",
       "\n",
       "  var node = svg.selectAll(\"circle\")\n",
       "      .data(json.nodes)\n",
       "    .enter().append(\"circle\")\n",
       "      .attr(\"r\", radius - .75)\n",
       "      .style(\"fill\", function(d) { return fill(d.group); })\n",
       "      .style(\"stroke\", function(d) { return d3.rgb(fill(d.group)).darker(); })\n",
       "      .call(force.drag);\n",
       "  \n",
       "  node.append(\"title\")\n",
       "      .text(function(d) { return d.name; });\n",
       "\n",
       "  force\n",
       "      .nodes(json.nodes)\n",
       "      .links(json.links)\n",
       "      .on(\"tick\", tick)\n",
       "      .start();\n",
       "\n",
       "  function tick(e) {\n",
       "    var k = 6 * e.alpha;\n",
       "\n",
       "    // Push sources up and targets down to form a weak tree.\n",
       "    link\n",
       "        .each(function(d) { d.source.y -= k, d.target.y += k; })\n",
       "        .attr(\"x1\", function(d) { return d.source.x; })\n",
       "        .attr(\"y1\", function(d) { return d.source.y; })\n",
       "        .attr(\"x2\", function(d) { return d.target.x; })\n",
       "        .attr(\"y2\", function(d) { return d.target.y; });\n",
       "\n",
       "    node\n",
       "        .attr(\"cx\", function(d) { return d.x; })\n",
       "        .attr(\"cy\", function(d) { return d.y; });\n",
       "\n",
       "  }\n",
       " </script>\n"
      ],
      "text/plain": [
       "<IPython.core.display.HTML object>"
      ]
     },
     "execution_count": 57,
     "metadata": {},
     "output_type": "execute_result"
    }
   ],
   "source": [
    "my_heap.insert_todo(\"Edit footage.\")"
   ]
  },
  {
   "cell_type": "code",
   "execution_count": 58,
   "metadata": {
    "collapsed": false
   },
   "outputs": [
    {
     "name": "stdout",
     "output_type": "stream",
     "text": [
      "a: File taxes.\n",
      "b: Mow lawn.\n",
      "More important? a/b/(e)qual a\n",
      "a: Edit footage.\n",
      "b: Mow lawn.\n",
      "More important? a/b/(e)qual b\n",
      "a: File taxes.\n",
      "b: Mow lawn.\n",
      "More important? a/b/(e)qual a\n",
      "New top priority: TODO(Edit footage.)\n"
     ]
    },
    {
     "data": {
      "text/html": [
       "\n",
       "<style> \n",
       "circle {\n",
       "  stroke-width: 1.5px;\n",
       "}\n",
       "\n",
       "line {\n",
       "  stroke: #999;\n",
       "  stroke-width: 1.5px;\n",
       "}\n",
       " </style>\n",
       "<div id=\"graph-div\"></div>\n",
       "<script> \n",
       "var width = 960,\n",
       "    height = 500,\n",
       "    radius = 6;\n",
       "\n",
       "var fill = d3.scale.category20();\n",
       "\n",
       "var force = d3.layout.force()\n",
       "    .charge(-120)\n",
       "    .linkDistance(30)\n",
       "    .size([width, height]);\n",
       "\n",
       "var svg = d3.select(\"#graph-div\").append(\"svg\")\n",
       "    .attr(\"width\", width)\n",
       "    .attr(\"height\", height);\n",
       "\n",
       "var json = {\"nodes\": [{\"name\": \"File taxes.\"}, {\"name\": \"Mow lawn.\"}, {\"name\": \"Edit footage.\"}], \"links\": [{\"source\": 1, \"target\": 0}]};\n",
       "\n",
       "  var link = svg.selectAll(\"line\")\n",
       "      .data(json.links)\n",
       "    .enter().append(\"line\");\n",
       "\n",
       "  var node = svg.selectAll(\"circle\")\n",
       "      .data(json.nodes)\n",
       "    .enter().append(\"circle\")\n",
       "      .attr(\"r\", radius - .75)\n",
       "      .style(\"fill\", function(d) { return fill(d.group); })\n",
       "      .style(\"stroke\", function(d) { return d3.rgb(fill(d.group)).darker(); })\n",
       "      .call(force.drag);\n",
       "  \n",
       "  node.append(\"title\")\n",
       "      .text(function(d) { return d.name; });\n",
       "\n",
       "  force\n",
       "      .nodes(json.nodes)\n",
       "      .links(json.links)\n",
       "      .on(\"tick\", tick)\n",
       "      .start();\n",
       "\n",
       "  function tick(e) {\n",
       "    var k = 6 * e.alpha;\n",
       "\n",
       "    // Push sources up and targets down to form a weak tree.\n",
       "    link\n",
       "        .each(function(d) { d.source.y -= k, d.target.y += k; })\n",
       "        .attr(\"x1\", function(d) { return d.source.x; })\n",
       "        .attr(\"y1\", function(d) { return d.source.y; })\n",
       "        .attr(\"x2\", function(d) { return d.target.x; })\n",
       "        .attr(\"y2\", function(d) { return d.target.y; });\n",
       "\n",
       "    node\n",
       "        .attr(\"cx\", function(d) { return d.x; })\n",
       "        .attr(\"cy\", function(d) { return d.y; });\n",
       "\n",
       "  }\n",
       " </script>\n"
      ],
      "text/plain": [
       "<IPython.core.display.HTML object>"
      ]
     },
     "execution_count": 58,
     "metadata": {},
     "output_type": "execute_result"
    }
   ],
   "source": [
    "my_heap.complete_top()"
   ]
  },
  {
   "cell_type": "code",
   "execution_count": 60,
   "metadata": {
    "collapsed": false
   },
   "outputs": [
    {
     "name": "stdout",
     "output_type": "stream",
     "text": [
      "a: Edit footage.\n",
      "b: String guitar.\n",
      "More important? a/b/(e)qual a\n"
     ]
    },
    {
     "data": {
      "text/html": [
       "\n",
       "<style> \n",
       "circle {\n",
       "  stroke-width: 1.5px;\n",
       "}\n",
       "\n",
       "line {\n",
       "  stroke: #999;\n",
       "  stroke-width: 1.5px;\n",
       "}\n",
       " </style>\n",
       "<div id=\"graph-div\"></div>\n",
       "<script> \n",
       "var width = 960,\n",
       "    height = 500,\n",
       "    radius = 6;\n",
       "\n",
       "var fill = d3.scale.category20();\n",
       "\n",
       "var force = d3.layout.force()\n",
       "    .charge(-120)\n",
       "    .linkDistance(30)\n",
       "    .size([width, height]);\n",
       "\n",
       "var svg = d3.select(\"#graph-div\").append(\"svg\")\n",
       "    .attr(\"width\", width)\n",
       "    .attr(\"height\", height);\n",
       "\n",
       "var json = {\"nodes\": [{\"name\": \"File taxes.\"}, {\"name\": \"Mow lawn.\"}, {\"name\": \"Edit footage.\"}, {\"name\": \"String guitar.\"}], \"links\": [{\"source\": 1, \"target\": 0}]};\n",
       "\n",
       "  var link = svg.selectAll(\"line\")\n",
       "      .data(json.links)\n",
       "    .enter().append(\"line\");\n",
       "\n",
       "  var node = svg.selectAll(\"circle\")\n",
       "      .data(json.nodes)\n",
       "    .enter().append(\"circle\")\n",
       "      .attr(\"r\", radius - .75)\n",
       "      .style(\"fill\", function(d) { return fill(d.group); })\n",
       "      .style(\"stroke\", function(d) { return d3.rgb(fill(d.group)).darker(); })\n",
       "      .call(force.drag);\n",
       "  \n",
       "  node.append(\"title\")\n",
       "      .text(function(d) { return d.name; });\n",
       "\n",
       "  force\n",
       "      .nodes(json.nodes)\n",
       "      .links(json.links)\n",
       "      .on(\"tick\", tick)\n",
       "      .start();\n",
       "\n",
       "  function tick(e) {\n",
       "    var k = 6 * e.alpha;\n",
       "\n",
       "    // Push sources up and targets down to form a weak tree.\n",
       "    link\n",
       "        .each(function(d) { d.source.y -= k, d.target.y += k; })\n",
       "        .attr(\"x1\", function(d) { return d.source.x; })\n",
       "        .attr(\"y1\", function(d) { return d.source.y; })\n",
       "        .attr(\"x2\", function(d) { return d.target.x; })\n",
       "        .attr(\"y2\", function(d) { return d.target.y; });\n",
       "\n",
       "    node\n",
       "        .attr(\"cx\", function(d) { return d.x; })\n",
       "        .attr(\"cy\", function(d) { return d.y; });\n",
       "\n",
       "  }\n",
       " </script>\n"
      ],
      "text/plain": [
       "<IPython.core.display.HTML object>"
      ]
     },
     "execution_count": 60,
     "metadata": {},
     "output_type": "execute_result"
    }
   ],
   "source": [
    "my_heap.insert_todo(\"String guitar.\")"
   ]
  },
  {
   "cell_type": "code",
   "execution_count": 44,
   "metadata": {
    "collapsed": false
   },
   "outputs": [
    {
     "name": "stdout",
     "output_type": "stream",
     "text": [
      "TODO(File taxes.)\n"
     ]
    }
   ],
   "source": [
    "my_heap.show_top()"
   ]
  },
  {
   "cell_type": "code",
   "execution_count": 45,
   "metadata": {
    "collapsed": false
   },
   "outputs": [
    {
     "name": "stdout",
     "output_type": "stream",
     "text": [
      "a: File taxes.\n",
      "b: Z\n",
      "More important? a/b/(e)qual a\n"
     ]
    }
   ],
   "source": [
    "my_heap.insert_todo(\"Z\")"
   ]
  },
  {
   "cell_type": "code",
   "execution_count": 46,
   "metadata": {
    "collapsed": false
   },
   "outputs": [
    {
     "name": "stdout",
     "output_type": "stream",
     "text": [
      "TODO(File taxes.)\n"
     ]
    }
   ],
   "source": [
    "my_heap.show_top()"
   ]
  },
  {
   "cell_type": "code",
   "execution_count": 47,
   "metadata": {
    "collapsed": false
   },
   "outputs": [
    {
     "name": "stdout",
     "output_type": "stream",
     "text": [
      "a: File taxes.\n",
      "b: Wash car.\n",
      "More important? a/b/(e)qual a\n"
     ]
    }
   ],
   "source": [
    "my_heap.insert_todo(\"Wash car.\")"
   ]
  },
  {
   "cell_type": "code",
   "execution_count": 48,
   "metadata": {
    "collapsed": false
   },
   "outputs": [
    {
     "name": "stdout",
     "output_type": "stream",
     "text": [
      "TODO(File taxes.)\n"
     ]
    }
   ],
   "source": [
    "my_heap.show_top()"
   ]
  },
  {
   "cell_type": "code",
   "execution_count": null,
   "metadata": {
    "collapsed": true
   },
   "outputs": [],
   "source": []
  }
 ],
 "metadata": {
  "kernelspec": {
   "display_name": "Python 3",
   "language": "python",
   "name": "python3"
  },
  "language_info": {
   "codemirror_mode": {
    "name": "ipython",
    "version": 3
   },
   "file_extension": ".py",
   "mimetype": "text/x-python",
   "name": "python",
   "nbconvert_exporter": "python",
   "pygments_lexer": "ipython3",
   "version": "3.5.0"
  }
 },
 "nbformat": 4,
 "nbformat_minor": 0
}
